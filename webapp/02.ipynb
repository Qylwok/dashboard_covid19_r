{
 "cells": [
  {
   "cell_type": "markdown",
   "metadata": {},
   "source": [
    "## Imports"
   ]
  },
  {
   "cell_type": "code",
   "execution_count": 1,
   "metadata": {},
   "outputs": [
    {
     "name": "stderr",
     "output_type": "stream",
     "text": [
      "\n",
      "Attaching package: ‘dplyr’\n",
      "\n",
      "\n",
      "The following objects are masked from ‘package:stats’:\n",
      "\n",
      "    filter, lag\n",
      "\n",
      "\n",
      "The following objects are masked from ‘package:base’:\n",
      "\n",
      "    intersect, setdiff, setequal, union\n",
      "\n",
      "\n"
     ]
    }
   ],
   "source": [
    "library(dplyr)\n",
    "library(tidyr)\n",
    "library(\"psych\")"
   ]
  },
  {
   "cell_type": "markdown",
   "metadata": {},
   "source": [
    "# Monde"
   ]
  },
  {
   "cell_type": "code",
   "execution_count": 2,
   "metadata": {},
   "outputs": [],
   "source": [
    "## Chargement des données\n",
    "\n",
    "covid_csv <- read.csv(\"https://raw.githubusercontent.com/gibello/whocovid19/master/global_who_data.csv\")\n",
    "pop_csv <- read.csv(\"https://raw.githubusercontent.com/datasets/population/master/data/population.csv\")\n",
    "country_csv <- read.csv(\"https://raw.githubusercontent.com/lukes/ISO-3166-Countries-with-Regional-Codes/master/all/all.csv\")\n",
    "pop <- filter(pop_csv, Year == max(pop_csv$Year))\n",
    "# pop <- pop_csv %>% slice(which(pop_csv$Year == max(pop_csv$Year)))\n",
    "# head(pop)"
   ]
  },
  {
   "cell_type": "code",
   "execution_count": 3,
   "metadata": {},
   "outputs": [],
   "source": [
    "## Construction de la dataframe par jointure\n",
    "\n",
    "df <- left_join(covid_csv, pop, by = c(\"ISO.3166.code\" = \"Country.Code\"))\n",
    "df <- left_join(df, country_csv, by = c(\"ISO.3166.code\" = \"alpha.3\"))\n",
    "# head(df)\n",
    "# for(column in colnames(df)){\n",
    "#     print(column)\n",
    "#     print(head(df[[column]]))\n",
    "#     print(sum(is.na(df[[column]])))\n",
    "#     print(\"===================\")\n",
    "# }\n",
    "\n",
    "## Data pre-processing\n",
    "\n",
    "df$intermediate.region.code <- NULL\n",
    "df <- df[complete.cases(df), ]\n",
    "# head(df$Date)\n",
    "df$Date <- as.Date(df$Date , format = \"%Y-%m-%d\")\n",
    "# head(df$Date)\n",
    "last_day <- max(df$Date)\n",
    "# last_day\n",
    "# str(df)\n",
    "df$Logarithm.of.confirmed.cases <- log(df$Confirmed.cases)\n",
    "# head(df$Logarithm.of.confirmed.cases)\n",
    "df$Logarithm.of.deaths <- log(df$Deaths)\n",
    "# head(df$Logarithm.of.deaths)\n",
    "df$Population <- df$Value\n",
    "df$Value <- NULL\n",
    "df$Proportion.of.deaths.x1M <- (df$Deaths / df$Population * 1000000)\n",
    "df$Proportion.of.confirmed.cases.x1M <- df$Confirmed.cases / df$Population * 1000000\n",
    "df$Logarithm.of.proportion.of.deaths.x1M <- log(df$Deaths / df$Population * 1000000)\n",
    "df$Logarithm.of.proportion.of.confirmed.cases.x1M <- log(df$Confirmed.cases / df$Population * 1000000)\n",
    "last_14_days <- unique(with(df, df[(Date >= last_day - 14), ])$Date)\n",
    "# df$Date %>% filter(df$Date >= last_day - 14)\n",
    "# df[df$Date %in% unique(as.Date(format(df$Date + 28, \"%Y-%m-%d\")) - 1),]\n",
    "# last_14_days\n",
    "\n",
    "# str(df)"
   ]
  },
  {
   "cell_type": "code",
   "execution_count": 4,
   "metadata": {},
   "outputs": [
    {
     "name": "stdout",
     "output_type": "stream",
     "text": [
      "'data.frame':\t18479 obs. of  27 variables:\n",
      " $ Date                                          : Date, format: \"2020-03-01\" \"2020-03-01\" ...\n",
      " $ Country                                       : chr  \"Republic of Korea\" \"Japan\" \"Singapore\" \"Australia\" ...\n",
      " $ ISO.3166.code                                 : chr  \"KOR\" \"JPN\" \"SGP\" \"AUS\" ...\n",
      " $ Confirmed.cases                               : int  4212 254 106 27 24 16 3 1 1 1689 ...\n",
      " $ New.cases                                     : int  476 15 4 2 0 0 0 0 0 561 ...\n",
      " $ Deaths                                        : int  22 6 0 1 0 0 1 0 0 35 ...\n",
      " $ New.deaths                                    : int  4 1 0 1 0 0 0 0 0 6 ...\n",
      " $ Transmission.type                             : chr  \"Local transmission\" \"Local transmission\" \"Local transmission\" \"Local transmission\" ...\n",
      " $ Days.since.last.case                          : int  0 0 0 0 3 18 27 35 3 0 ...\n",
      " $ Country.Name                                  : chr  \"Korea, Rep.\" \"Japan\" \"Singapore\" \"Australia\" ...\n",
      " $ Year                                          : int  2018 2018 2018 2018 2018 2018 2018 2018 2018 2018 ...\n",
      " $ name                                          : chr  \"Korea, Republic of\" \"Japan\" \"Singapore\" \"Australia\" ...\n",
      " $ alpha.2                                       : chr  \"KR\" \"JP\" \"SG\" \"AU\" ...\n",
      " $ country.code                                  : int  410 392 702 36 458 704 608 116 554 380 ...\n",
      " $ iso_3166.2                                    : chr  \"ISO 3166-2:KR\" \"ISO 3166-2:JP\" \"ISO 3166-2:SG\" \"ISO 3166-2:AU\" ...\n",
      " $ region                                        : chr  \"Asia\" \"Asia\" \"Asia\" \"Oceania\" ...\n",
      " $ sub.region                                    : chr  \"Eastern Asia\" \"Eastern Asia\" \"South-eastern Asia\" \"Australia and New Zealand\" ...\n",
      " $ intermediate.region                           : chr  \"\" \"\" \"\" \"\" ...\n",
      " $ region.code                                   : int  142 142 142 9 142 142 142 142 9 150 ...\n",
      " $ sub.region.code                               : int  30 30 35 53 35 35 35 35 53 39 ...\n",
      " $ Logarithm.of.confirmed.cases                  : num  8.35 5.54 4.66 3.3 3.18 ...\n",
      " $ Logarithm.of.deaths                           : num  3.09 1.79 -Inf 0 -Inf ...\n",
      " $ Population                                    : num  5.16e+07 1.27e+08 5.64e+06 2.50e+07 3.15e+07 ...\n",
      " $ Proportion.of.deaths.x1M                      : num  0.4263 0.0474 0 0.04 0 ...\n",
      " $ Proportion.of.confirmed.cases.x1M             : num  81.617 2.007 18.799 1.081 0.761 ...\n",
      " $ Logarithm.of.proportion.of.deaths.x1M         : num  -0.853 -3.049 -Inf -3.218 -Inf ...\n",
      " $ Logarithm.of.proportion.of.confirmed.cases.x1M: num  4.402 0.6969 2.9338 0.0777 -0.2728 ...\n"
     ]
    }
   ],
   "source": [
    "str(df)"
   ]
  },
  {
   "cell_type": "code",
   "execution_count": 7,
   "metadata": {},
   "outputs": [
    {
     "ename": "ERROR",
     "evalue": "Error in describeFast(df): impossible de trouver la fonction \"describeFast\"\n",
     "output_type": "error",
     "traceback": [
      "Error in describeFast(df): impossible de trouver la fonction \"describeFast\"\nTraceback:\n"
     ]
    }
   ],
   "source": [
    "describeFast(df)"
   ]
  },
  {
   "cell_type": "markdown",
   "metadata": {},
   "source": [
    "## Graphiques"
   ]
  },
  {
   "cell_type": "code",
   "execution_count": null,
   "metadata": {},
   "outputs": [],
   "source": []
  },
  {
   "cell_type": "code",
   "execution_count": null,
   "metadata": {},
   "outputs": [],
   "source": []
  },
  {
   "cell_type": "code",
   "execution_count": null,
   "metadata": {},
   "outputs": [],
   "source": []
  },
  {
   "cell_type": "code",
   "execution_count": null,
   "metadata": {},
   "outputs": [],
   "source": []
  },
  {
   "cell_type": "code",
   "execution_count": null,
   "metadata": {},
   "outputs": [],
   "source": []
  },
  {
   "cell_type": "code",
   "execution_count": null,
   "metadata": {},
   "outputs": [],
   "source": []
  },
  {
   "cell_type": "code",
   "execution_count": null,
   "metadata": {},
   "outputs": [],
   "source": []
  },
  {
   "cell_type": "code",
   "execution_count": null,
   "metadata": {},
   "outputs": [],
   "source": []
  },
  {
   "cell_type": "code",
   "execution_count": null,
   "metadata": {},
   "outputs": [],
   "source": []
  },
  {
   "cell_type": "code",
   "execution_count": null,
   "metadata": {},
   "outputs": [],
   "source": []
  },
  {
   "cell_type": "code",
   "execution_count": null,
   "metadata": {},
   "outputs": [],
   "source": []
  },
  {
   "cell_type": "code",
   "execution_count": null,
   "metadata": {},
   "outputs": [],
   "source": []
  },
  {
   "cell_type": "code",
   "execution_count": null,
   "metadata": {},
   "outputs": [],
   "source": []
  },
  {
   "cell_type": "code",
   "execution_count": null,
   "metadata": {},
   "outputs": [],
   "source": []
  },
  {
   "cell_type": "code",
   "execution_count": null,
   "metadata": {},
   "outputs": [],
   "source": []
  },
  {
   "cell_type": "code",
   "execution_count": null,
   "metadata": {},
   "outputs": [],
   "source": []
  },
  {
   "cell_type": "code",
   "execution_count": null,
   "metadata": {},
   "outputs": [],
   "source": []
  },
  {
   "cell_type": "code",
   "execution_count": null,
   "metadata": {},
   "outputs": [],
   "source": []
  },
  {
   "cell_type": "markdown",
   "metadata": {},
   "source": [
    "# France (si on a le temps)"
   ]
  },
  {
   "cell_type": "code",
   "execution_count": 22,
   "metadata": {},
   "outputs": [],
   "source": [
    "# df_jdd = read.csv(\"https://www.data.gouv.fr/fr/organizations/sante-publique-france/datasets-resources.csv\", sep=\";\")"
   ]
  },
  {
   "cell_type": "code",
   "execution_count": 23,
   "metadata": {},
   "outputs": [],
   "source": [
    "# dfs <- c()\n",
    "# names(dfs) <- c()\n",
    "# urls <- as.list(as.data.frame(t(df_jdd[\"url\"][1])))"
   ]
  },
  {
   "cell_type": "code",
   "execution_count": 24,
   "metadata": {},
   "outputs": [],
   "source": [
    "# for(url in urls){\n",
    "#     if(isFALSE(grepl(url, \"metadonnee\", fixed=TRUE))){\n",
    "#         tryCatch({\n",
    "#             append(dfs, read_excel(url))\n",
    "#             message(\"Opened the following url with Excel (1) : \")\n",
    "#             message(url)\n",
    "#             print(head(read_excel(url)))\n",
    "#             message(\"\")\n",
    "#         }, error = function(error_condition) {\n",
    "#             tryCatch({\n",
    "#                 append(dfs, read.csv(url, sep=\";\"))\n",
    "#                 message(\"Opened the following url with CSV (;) : \")\n",
    "#                 message(url)\n",
    "#                 print(head(read.csv(url, sep=\";\")))\n",
    "#                 message(\"\")\n",
    "#             }, error = function(error_condition2) {\n",
    "#                 tryCatch({\n",
    "#                     append(dfs, read.csv(url, sep=\",\"))\n",
    "#                     message(\"Opened the following url with CSV (,) : \")\n",
    "#                     message(url)\n",
    "#                     print(head(read.csv(url, sep=\",\")))\n",
    "#                     message(\"\")\n",
    "#                 }, error = function(error_condition3) {\n",
    "#                     message(\"Can't open the following URL : \")\n",
    "#                     message(url)\n",
    "#                 })\n",
    "#             })\n",
    "#         }, finally={\n",
    "#             append(names(dfs), tail(strsplit(url, \"/\"), n=1))\n",
    "#         })\n",
    "#     }\n",
    "# }"
   ]
  },
  {
   "cell_type": "code",
   "execution_count": null,
   "metadata": {},
   "outputs": [],
   "source": []
  },
  {
   "cell_type": "code",
   "execution_count": null,
   "metadata": {},
   "outputs": [],
   "source": []
  },
  {
   "cell_type": "code",
   "execution_count": null,
   "metadata": {},
   "outputs": [],
   "source": []
  }
 ],
 "metadata": {
  "kernelspec": {
   "display_name": "R",
   "language": "R",
   "name": "ir"
  },
  "language_info": {
   "codemirror_mode": "r",
   "file_extension": ".r",
   "mimetype": "text/x-r-source",
   "name": "R",
   "pygments_lexer": "r",
   "version": "4.0.1"
  }
 },
 "nbformat": 4,
 "nbformat_minor": 4
}
